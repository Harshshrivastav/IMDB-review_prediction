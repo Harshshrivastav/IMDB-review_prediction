{
 "cells": [
  {
   "cell_type": "code",
   "execution_count": 12,
   "metadata": {},
   "outputs": [],
   "source": [
    "import numpy as np\n",
    "import tensorflow as tf\n",
    "from tensorflow.keras.datasets import imdb\n",
    "from tensorflow.keras.preprocessing import sequence\n",
    "from tensorflow.keras.models import load_model\n"
   ]
  },
  {
   "cell_type": "code",
   "execution_count": 13,
   "metadata": {},
   "outputs": [],
   "source": [
    "word_index = imdb.get_word_index()\n",
    "reverse_word_index = {value: key for key, value in word_index.items()}\n"
   ]
  },
  {
   "cell_type": "code",
   "execution_count": 15,
   "metadata": {},
   "outputs": [
    {
     "name": "stderr",
     "output_type": "stream",
     "text": [
      "WARNING:absl:Compiled the loaded model, but the compiled metrics have yet to be built. `model.compile_metrics` will be empty until you train or evaluate the model.\n"
     ]
    },
    {
     "data": {
      "text/html": [
       "<pre style=\"white-space:pre;overflow-x:auto;line-height:normal;font-family:Menlo,'DejaVu Sans Mono',consolas,'Courier New',monospace\"><span style=\"font-weight: bold\">Model: \"sequential_4\"</span>\n",
       "</pre>\n"
      ],
      "text/plain": [
       "\u001b[1mModel: \"sequential_4\"\u001b[0m\n"
      ]
     },
     "metadata": {},
     "output_type": "display_data"
    },
    {
     "data": {
      "text/html": [
       "<pre style=\"white-space:pre;overflow-x:auto;line-height:normal;font-family:Menlo,'DejaVu Sans Mono',consolas,'Courier New',monospace\">┏━━━━━━━━━━━━━━━━━━━━━━━━━━━━━━━━━┳━━━━━━━━━━━━━━━━━━━━━━━━┳━━━━━━━━━━━━━━━┓\n",
       "┃<span style=\"font-weight: bold\"> Layer (type)                    </span>┃<span style=\"font-weight: bold\"> Output Shape           </span>┃<span style=\"font-weight: bold\">       Param # </span>┃\n",
       "┡━━━━━━━━━━━━━━━━━━━━━━━━━━━━━━━━━╇━━━━━━━━━━━━━━━━━━━━━━━━╇━━━━━━━━━━━━━━━┩\n",
       "│ embedding_4 (<span style=\"color: #0087ff; text-decoration-color: #0087ff\">Embedding</span>)         │ (<span style=\"color: #00af00; text-decoration-color: #00af00\">32</span>, <span style=\"color: #00af00; text-decoration-color: #00af00\">500</span>, <span style=\"color: #00af00; text-decoration-color: #00af00\">128</span>)         │     <span style=\"color: #00af00; text-decoration-color: #00af00\">1,280,000</span> │\n",
       "├─────────────────────────────────┼────────────────────────┼───────────────┤\n",
       "│ simple_rnn_4 (<span style=\"color: #0087ff; text-decoration-color: #0087ff\">SimpleRNN</span>)        │ (<span style=\"color: #00af00; text-decoration-color: #00af00\">32</span>, <span style=\"color: #00af00; text-decoration-color: #00af00\">128</span>)              │        <span style=\"color: #00af00; text-decoration-color: #00af00\">32,896</span> │\n",
       "├─────────────────────────────────┼────────────────────────┼───────────────┤\n",
       "│ dense_4 (<span style=\"color: #0087ff; text-decoration-color: #0087ff\">Dense</span>)                 │ (<span style=\"color: #00af00; text-decoration-color: #00af00\">32</span>, <span style=\"color: #00af00; text-decoration-color: #00af00\">1</span>)                │           <span style=\"color: #00af00; text-decoration-color: #00af00\">129</span> │\n",
       "└─────────────────────────────────┴────────────────────────┴───────────────┘\n",
       "</pre>\n"
      ],
      "text/plain": [
       "┏━━━━━━━━━━━━━━━━━━━━━━━━━━━━━━━━━┳━━━━━━━━━━━━━━━━━━━━━━━━┳━━━━━━━━━━━━━━━┓\n",
       "┃\u001b[1m \u001b[0m\u001b[1mLayer (type)                   \u001b[0m\u001b[1m \u001b[0m┃\u001b[1m \u001b[0m\u001b[1mOutput Shape          \u001b[0m\u001b[1m \u001b[0m┃\u001b[1m \u001b[0m\u001b[1m      Param #\u001b[0m\u001b[1m \u001b[0m┃\n",
       "┡━━━━━━━━━━━━━━━━━━━━━━━━━━━━━━━━━╇━━━━━━━━━━━━━━━━━━━━━━━━╇━━━━━━━━━━━━━━━┩\n",
       "│ embedding_4 (\u001b[38;5;33mEmbedding\u001b[0m)         │ (\u001b[38;5;34m32\u001b[0m, \u001b[38;5;34m500\u001b[0m, \u001b[38;5;34m128\u001b[0m)         │     \u001b[38;5;34m1,280,000\u001b[0m │\n",
       "├─────────────────────────────────┼────────────────────────┼───────────────┤\n",
       "│ simple_rnn_4 (\u001b[38;5;33mSimpleRNN\u001b[0m)        │ (\u001b[38;5;34m32\u001b[0m, \u001b[38;5;34m128\u001b[0m)              │        \u001b[38;5;34m32,896\u001b[0m │\n",
       "├─────────────────────────────────┼────────────────────────┼───────────────┤\n",
       "│ dense_4 (\u001b[38;5;33mDense\u001b[0m)                 │ (\u001b[38;5;34m32\u001b[0m, \u001b[38;5;34m1\u001b[0m)                │           \u001b[38;5;34m129\u001b[0m │\n",
       "└─────────────────────────────────┴────────────────────────┴───────────────┘\n"
      ]
     },
     "metadata": {},
     "output_type": "display_data"
    },
    {
     "data": {
      "text/html": [
       "<pre style=\"white-space:pre;overflow-x:auto;line-height:normal;font-family:Menlo,'DejaVu Sans Mono',consolas,'Courier New',monospace\"><span style=\"font-weight: bold\"> Total params: </span><span style=\"color: #00af00; text-decoration-color: #00af00\">1,313,027</span> (5.01 MB)\n",
       "</pre>\n"
      ],
      "text/plain": [
       "\u001b[1m Total params: \u001b[0m\u001b[38;5;34m1,313,027\u001b[0m (5.01 MB)\n"
      ]
     },
     "metadata": {},
     "output_type": "display_data"
    },
    {
     "data": {
      "text/html": [
       "<pre style=\"white-space:pre;overflow-x:auto;line-height:normal;font-family:Menlo,'DejaVu Sans Mono',consolas,'Courier New',monospace\"><span style=\"font-weight: bold\"> Trainable params: </span><span style=\"color: #00af00; text-decoration-color: #00af00\">1,313,025</span> (5.01 MB)\n",
       "</pre>\n"
      ],
      "text/plain": [
       "\u001b[1m Trainable params: \u001b[0m\u001b[38;5;34m1,313,025\u001b[0m (5.01 MB)\n"
      ]
     },
     "metadata": {},
     "output_type": "display_data"
    },
    {
     "data": {
      "text/html": [
       "<pre style=\"white-space:pre;overflow-x:auto;line-height:normal;font-family:Menlo,'DejaVu Sans Mono',consolas,'Courier New',monospace\"><span style=\"font-weight: bold\"> Non-trainable params: </span><span style=\"color: #00af00; text-decoration-color: #00af00\">0</span> (0.00 B)\n",
       "</pre>\n"
      ],
      "text/plain": [
       "\u001b[1m Non-trainable params: \u001b[0m\u001b[38;5;34m0\u001b[0m (0.00 B)\n"
      ]
     },
     "metadata": {},
     "output_type": "display_data"
    },
    {
     "data": {
      "text/html": [
       "<pre style=\"white-space:pre;overflow-x:auto;line-height:normal;font-family:Menlo,'DejaVu Sans Mono',consolas,'Courier New',monospace\"><span style=\"font-weight: bold\"> Optimizer params: </span><span style=\"color: #00af00; text-decoration-color: #00af00\">2</span> (12.00 B)\n",
       "</pre>\n"
      ],
      "text/plain": [
       "\u001b[1m Optimizer params: \u001b[0m\u001b[38;5;34m2\u001b[0m (12.00 B)\n"
      ]
     },
     "metadata": {},
     "output_type": "display_data"
    }
   ],
   "source": [
    "model = load_model('simple_rnn_imdb.h5')\n",
    "model.summary()"
   ]
  },
  {
   "cell_type": "code",
   "execution_count": 16,
   "metadata": {},
   "outputs": [
    {
     "data": {
      "text/plain": [
       "[array([[-0.8553062 ,  0.78248316,  0.47173154, ...,  0.7305257 ,\n",
       "          0.6921145 , -0.77469206],\n",
       "        [-0.04788535, -0.03701233,  0.04920253, ..., -0.0072615 ,\n",
       "         -0.00961289,  0.03018519],\n",
       "        [-0.01855974, -0.05573752,  0.0284447 , ...,  0.0169914 ,\n",
       "          0.00426022, -0.0734947 ],\n",
       "        ...,\n",
       "        [-0.12870155,  0.03946088,  0.18265061, ..., -0.04444515,\n",
       "         -0.05618503,  0.10257698],\n",
       "        [-0.14841053,  0.03962395,  0.0653427 , ..., -0.02228355,\n",
       "         -0.11456782,  0.12681577],\n",
       "        [-0.05223105,  0.10508028,  0.08931924, ...,  0.00906885,\n",
       "         -0.18068443,  0.09296779]], dtype=float32),\n",
       " array([[-0.11043775, -0.17630865,  0.07506317, ..., -0.00923172,\n",
       "          0.07171462, -0.01143944],\n",
       "        [-0.03068464, -0.10511677,  0.06593299, ..., -0.17178728,\n",
       "         -0.06446106,  0.06572472],\n",
       "        [-0.01582583, -0.04052743,  0.18272564, ...,  0.1490995 ,\n",
       "          0.02681955, -0.07134441],\n",
       "        ...,\n",
       "        [-0.04990465,  0.00469672,  0.08244108, ..., -0.02433124,\n",
       "         -0.11547941, -0.09797778],\n",
       "        [ 0.13579063,  0.03626544,  0.03971064, ..., -0.18521206,\n",
       "         -0.03742981,  0.12770206],\n",
       "        [ 0.13218917,  0.02566667,  0.05826828, ...,  0.10812709,\n",
       "          0.07330245, -0.11300522]], dtype=float32),\n",
       " array([[-0.02812343, -0.08501643,  0.14152   , ..., -0.00487445,\n",
       "          0.07870541,  0.08469242],\n",
       "        [ 0.00843384,  0.1132395 ,  0.08556609, ...,  0.12414585,\n",
       "         -0.09023852,  0.05261593],\n",
       "        [ 0.11029393, -0.07943715,  0.04400627, ..., -0.10405879,\n",
       "         -0.09345251,  0.07775727],\n",
       "        ...,\n",
       "        [-0.13061088, -0.00273053, -0.05747356, ..., -0.09416016,\n",
       "         -0.04190779,  0.09756591],\n",
       "        [-0.00050425,  0.0091749 ,  0.12136031, ...,  0.00387804,\n",
       "         -0.02067701, -0.11846832],\n",
       "        [ 0.07852837,  0.11055171,  0.03663829, ...,  0.17651793,\n",
       "          0.04426006,  0.02223421]], dtype=float32),\n",
       " array([-0.01175265,  0.0149379 ,  0.03727248, -0.0108882 ,  0.02111986,\n",
       "         0.00289593, -0.03999675, -0.02614721, -0.01822866, -0.02613545,\n",
       "        -0.01488965, -0.04544591, -0.0079802 , -0.02227207,  0.03563527,\n",
       "         0.02507669, -0.00273114, -0.01038377, -0.01604748,  0.00720756,\n",
       "        -0.01419951,  0.02882423, -0.00622552,  0.00360239, -0.01853391,\n",
       "         0.02090378, -0.02560752, -0.02806569,  0.01545585, -0.0024459 ,\n",
       "        -0.00927882,  0.0109805 , -0.02814887,  0.03077382, -0.01388359,\n",
       "         0.00713245,  0.01759244, -0.00732017, -0.0147569 ,  0.01077197,\n",
       "        -0.01157499,  0.00202734,  0.00841523,  0.00506098, -0.01497498,\n",
       "        -0.02155712, -0.01674364,  0.00686733, -0.00284085, -0.0058537 ,\n",
       "         0.03079646,  0.02425309, -0.01147542, -0.01724134,  0.01098491,\n",
       "         0.02933427, -0.01143647, -0.00112564, -0.02294111, -0.0125142 ,\n",
       "         0.00730146, -0.00786016, -0.00765033,  0.0377459 , -0.04146226,\n",
       "        -0.0308195 , -0.02943317, -0.01102443, -0.01048912, -0.05075759,\n",
       "         0.01062892, -0.02380753, -0.02135146,  0.10753344, -0.02275682,\n",
       "        -0.00687958, -0.02909994, -0.00812647, -0.00043669, -0.01518641,\n",
       "        -0.02502095, -0.0404422 , -0.00541529, -0.00438563, -0.01895213,\n",
       "         0.00158312,  0.04798329, -0.03808454, -0.00592961, -0.01805017,\n",
       "         0.00294748,  0.01065765, -0.00379438, -0.00927526, -0.02801371,\n",
       "        -0.01254101,  0.02336387, -0.03607508,  0.01920939,  0.00667066,\n",
       "         0.01043574,  0.02366711, -0.00602093, -0.00640208, -0.01241263,\n",
       "         0.00366851, -0.01567081, -0.00392564, -0.00067127, -0.00949132,\n",
       "        -0.03510265, -0.0352633 , -0.02496612,  0.01271015, -0.05323238,\n",
       "         0.03252899, -0.00552285, -0.00699956,  0.02295337, -0.01753161,\n",
       "         0.00930407,  0.01980277, -0.02717115, -0.01413621, -0.01679652,\n",
       "         0.01315127, -0.02432524, -0.00725193], dtype=float32),\n",
       " array([[-0.22024554],\n",
       "        [ 0.23830287],\n",
       "        [ 0.16324425],\n",
       "        [-0.22771664],\n",
       "        [ 0.08235934],\n",
       "        [ 0.1363483 ],\n",
       "        [ 0.11130525],\n",
       "        [-0.11707939],\n",
       "        [ 0.12029558],\n",
       "        [-0.16683248],\n",
       "        [-0.14868607],\n",
       "        [-0.33111888],\n",
       "        [-0.0654734 ],\n",
       "        [ 0.00556245],\n",
       "        [ 0.25603333],\n",
       "        [-0.17446107],\n",
       "        [-0.08129188],\n",
       "        [ 0.13016628],\n",
       "        [-0.06493097],\n",
       "        [ 0.08998597],\n",
       "        [-0.33860517],\n",
       "        [ 0.39985982],\n",
       "        [-0.22244978],\n",
       "        [-0.10616408],\n",
       "        [ 0.08540282],\n",
       "        [ 0.12087543],\n",
       "        [-0.1061855 ],\n",
       "        [-0.37208045],\n",
       "        [ 0.13911088],\n",
       "        [-0.11772387],\n",
       "        [-0.04299291],\n",
       "        [-1.534882  ],\n",
       "        [-0.00865826],\n",
       "        [ 0.6089818 ],\n",
       "        [-0.06910662],\n",
       "        [ 0.22304764],\n",
       "        [ 0.39754283],\n",
       "        [-0.06523257],\n",
       "        [-0.2694861 ],\n",
       "        [-0.12500352],\n",
       "        [-0.22932985],\n",
       "        [-0.47202298],\n",
       "        [-0.21423404],\n",
       "        [ 0.16493592],\n",
       "        [-0.06404448],\n",
       "        [ 0.21441182],\n",
       "        [-0.093002  ],\n",
       "        [ 0.09375091],\n",
       "        [ 0.15818089],\n",
       "        [-0.2280639 ],\n",
       "        [-0.18991664],\n",
       "        [ 0.20688264],\n",
       "        [ 0.0794091 ],\n",
       "        [ 0.23513046],\n",
       "        [-0.08615938],\n",
       "        [ 0.05084689],\n",
       "        [ 0.21925826],\n",
       "        [ 0.04790321],\n",
       "        [ 0.45733497],\n",
       "        [ 0.22133487],\n",
       "        [-0.05121604],\n",
       "        [-0.21875517],\n",
       "        [ 0.00685502],\n",
       "        [ 0.24179812],\n",
       "        [ 0.24989408],\n",
       "        [ 0.10302895],\n",
       "        [-0.09551527],\n",
       "        [-0.16642399],\n",
       "        [-0.11454877],\n",
       "        [-0.1009898 ],\n",
       "        [ 0.14543027],\n",
       "        [ 0.15555553],\n",
       "        [ 0.12960318],\n",
       "        [-1.8566165 ],\n",
       "        [ 0.08060589],\n",
       "        [-0.14159808],\n",
       "        [ 0.06033743],\n",
       "        [-1.2165965 ],\n",
       "        [-0.41934475],\n",
       "        [-0.23737256],\n",
       "        [-0.03033055],\n",
       "        [-0.11440016],\n",
       "        [ 0.25158745],\n",
       "        [-0.2397746 ],\n",
       "        [-0.19263254],\n",
       "        [-0.04424988],\n",
       "        [-1.1545494 ],\n",
       "        [ 0.0762236 ],\n",
       "        [-0.17367679],\n",
       "        [ 0.07661973],\n",
       "        [ 0.14106019],\n",
       "        [-1.4173703 ],\n",
       "        [ 0.09247334],\n",
       "        [ 0.12663178],\n",
       "        [ 0.10402896],\n",
       "        [-0.18871279],\n",
       "        [ 0.07246639],\n",
       "        [-0.09351901],\n",
       "        [ 0.19101015],\n",
       "        [ 0.31550807],\n",
       "        [-0.00291557],\n",
       "        [ 0.18009819],\n",
       "        [-0.36852992],\n",
       "        [-0.10929585],\n",
       "        [-0.18149446],\n",
       "        [ 0.0276497 ],\n",
       "        [-0.03260214],\n",
       "        [-0.19683065],\n",
       "        [ 0.01963825],\n",
       "        [ 0.11990186],\n",
       "        [ 0.10829564],\n",
       "        [-0.0087502 ],\n",
       "        [-0.09221076],\n",
       "        [ 0.05348909],\n",
       "        [-0.2990816 ],\n",
       "        [ 0.10918652],\n",
       "        [ 0.46940255],\n",
       "        [ 0.15845579],\n",
       "        [-0.07521769],\n",
       "        [ 0.01299801],\n",
       "        [ 0.20664617],\n",
       "        [ 0.11914337],\n",
       "        [-0.11896294],\n",
       "        [ 0.57320356],\n",
       "        [ 0.20580478],\n",
       "        [-1.2915434 ],\n",
       "        [-0.08486997],\n",
       "        [ 0.08351184]], dtype=float32),\n",
       " array([-0.7852406], dtype=float32)]"
      ]
     },
     "execution_count": 16,
     "metadata": {},
     "output_type": "execute_result"
    }
   ],
   "source": [
    "model.get_weights()"
   ]
  },
  {
   "cell_type": "code",
   "execution_count": 17,
   "metadata": {},
   "outputs": [],
   "source": [
    "def decode_review(encoded_review):\n",
    "    return ' '.join([reverse_word_index.get(i-3,'?') for i in encoded_review])\n",
    "\n",
    "def preprocess_text(text):\n",
    "    words = text.lower().split()\n",
    "    encoded_review = [word_index.get(word,2)+3 for word in words]\n",
    "    padded_review  = sequence.pad_sequences([encoded_review],maxlen=500)\n",
    "    return padded_review\n",
    "\n",
    "\n"
   ]
  },
  {
   "cell_type": "markdown",
   "metadata": {},
   "source": [
    "### Prediction Function"
   ]
  },
  {
   "cell_type": "code",
   "execution_count": 18,
   "metadata": {},
   "outputs": [],
   "source": [
    "def predict_sentiment(review):\n",
    "    preprocess_input = preprocess_text(review)\n",
    "    prediction = model.predict(preprocess_input)\n",
    "    sentiment = 'Positive' if prediction[0][0]>0.5 else 'Negative'\n",
    "    return sentiment, prediction[0][0]\n",
    "\n",
    "\n"
   ]
  },
  {
   "cell_type": "code",
   "execution_count": 19,
   "metadata": {},
   "outputs": [],
   "source": [
    "example_review  = 'This movie was fantastic! The acting was great and the plot was thrilling.'"
   ]
  },
  {
   "cell_type": "code",
   "execution_count": 20,
   "metadata": {},
   "outputs": [
    {
     "name": "stdout",
     "output_type": "stream",
     "text": [
      "\u001b[1m1/1\u001b[0m \u001b[32m━━━━━━━━━━━━━━━━━━━━\u001b[0m\u001b[37m\u001b[0m \u001b[1m0s\u001b[0m 138ms/step\n"
     ]
    }
   ],
   "source": [
    "sentiment, score = predict_sentiment(example_review)"
   ]
  },
  {
   "cell_type": "code",
   "execution_count": 21,
   "metadata": {},
   "outputs": [
    {
     "name": "stdout",
     "output_type": "stream",
     "text": [
      "Review: This movie was fantastic! The acting was great and the plot was thrilling.\n",
      "Sentiment: Positive\n",
      "Prediction: 0.7674066424369812\n"
     ]
    }
   ],
   "source": [
    "print(f'Review: {example_review}')\n",
    "print(f'Sentiment: {sentiment}')\n",
    "print(f'Prediction: {score}')"
   ]
  }
 ],
 "metadata": {
  "kernelspec": {
   "display_name": "Python 3",
   "language": "python",
   "name": "python3"
  },
  "language_info": {
   "codemirror_mode": {
    "name": "ipython",
    "version": 3
   },
   "file_extension": ".py",
   "mimetype": "text/x-python",
   "name": "python",
   "nbconvert_exporter": "python",
   "pygments_lexer": "ipython3",
   "version": "3.12.0"
  }
 },
 "nbformat": 4,
 "nbformat_minor": 2
}
