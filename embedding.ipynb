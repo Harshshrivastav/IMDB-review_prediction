{
 "cells": [
  {
   "cell_type": "code",
   "execution_count": null,
   "metadata": {},
   "outputs": [],
   "source": [
    "# END TO END Deep  LEARNING PROJECT USING SIMPLE RNN \n",
    "# IMDB DATASET [MOVIE REVIEW DATASETS]\n",
    "\n",
    "# REVIEW POSITIVE OR NEGATIVE \n",
    "# DATA SET--> FEATURE ENGINEERING --> SIMPLE RNN (TRAINING ) --> .H5 FILE--> STREAMLIT WEBAPP --> DEPLOYMENT \n",
    "\n",
    "\n",
    "# TRAINNG RNN \n",
    "# EMBEDDING LAYER + SIMPLE RNN\n",
    "\n",
    " \n",
    "#  converting words to vectors using embedding layer "
   ]
  },
  {
   "cell_type": "code",
   "execution_count": 1,
   "metadata": {},
   "outputs": [],
   "source": [
    "# Options that we can use are \n",
    "\n",
    "# 1.)  One Hot representation (sparse matrix problem){Over Fitting}\n",
    "# 2.)  Box of Words (sparse matrix problem)\n",
    "# 3.)  Word2Vec (recommended)\n",
    "\n"
   ]
  },
  {
   "cell_type": "code",
   "execution_count": 1,
   "metadata": {},
   "outputs": [
    {
     "name": "stdout",
     "output_type": "stream",
     "text": [
      "Requirement already satisfied: tensorflow in c:\\users\\harsh\\projects\\python\\aiml\\venv\\lib\\site-packages (2.17.0)\n",
      "Requirement already satisfied: tensorflow-intel==2.17.0 in c:\\users\\harsh\\projects\\python\\aiml\\venv\\lib\\site-packages (from tensorflow) (2.17.0)\n",
      "Requirement already satisfied: absl-py>=1.0.0 in c:\\users\\harsh\\projects\\python\\aiml\\venv\\lib\\site-packages (from tensorflow-intel==2.17.0->tensorflow) (2.1.0)\n",
      "Requirement already satisfied: astunparse>=1.6.0 in c:\\users\\harsh\\projects\\python\\aiml\\venv\\lib\\site-packages (from tensorflow-intel==2.17.0->tensorflow) (1.6.3)\n",
      "Requirement already satisfied: flatbuffers>=24.3.25 in c:\\users\\harsh\\projects\\python\\aiml\\venv\\lib\\site-packages (from tensorflow-intel==2.17.0->tensorflow) (24.3.25)\n",
      "Requirement already satisfied: gast!=0.5.0,!=0.5.1,!=0.5.2,>=0.2.1 in c:\\users\\harsh\\projects\\python\\aiml\\venv\\lib\\site-packages (from tensorflow-intel==2.17.0->tensorflow) (0.6.0)\n",
      "Requirement already satisfied: google-pasta>=0.1.1 in c:\\users\\harsh\\projects\\python\\aiml\\venv\\lib\\site-packages (from tensorflow-intel==2.17.0->tensorflow) (0.2.0)\n",
      "Requirement already satisfied: h5py>=3.10.0 in c:\\users\\harsh\\projects\\python\\aiml\\venv\\lib\\site-packages (from tensorflow-intel==2.17.0->tensorflow) (3.11.0)\n",
      "Requirement already satisfied: libclang>=13.0.0 in c:\\users\\harsh\\projects\\python\\aiml\\venv\\lib\\site-packages (from tensorflow-intel==2.17.0->tensorflow) (18.1.1)\n",
      "Requirement already satisfied: ml-dtypes<0.5.0,>=0.3.1 in c:\\users\\harsh\\projects\\python\\aiml\\venv\\lib\\site-packages (from tensorflow-intel==2.17.0->tensorflow) (0.4.0)\n",
      "Requirement already satisfied: opt-einsum>=2.3.2 in c:\\users\\harsh\\projects\\python\\aiml\\venv\\lib\\site-packages (from tensorflow-intel==2.17.0->tensorflow) (3.3.0)\n",
      "Requirement already satisfied: packaging in c:\\users\\harsh\\projects\\python\\aiml\\venv\\lib\\site-packages (from tensorflow-intel==2.17.0->tensorflow) (24.1)\n",
      "Requirement already satisfied: protobuf!=4.21.0,!=4.21.1,!=4.21.2,!=4.21.3,!=4.21.4,!=4.21.5,<5.0.0dev,>=3.20.3 in c:\\users\\harsh\\projects\\python\\aiml\\venv\\lib\\site-packages (from tensorflow-intel==2.17.0->tensorflow) (4.25.4)\n",
      "Requirement already satisfied: requests<3,>=2.21.0 in c:\\users\\harsh\\projects\\python\\aiml\\venv\\lib\\site-packages (from tensorflow-intel==2.17.0->tensorflow) (2.32.3)\n",
      "Requirement already satisfied: setuptools in c:\\users\\harsh\\projects\\python\\aiml\\venv\\lib\\site-packages (from tensorflow-intel==2.17.0->tensorflow) (72.1.0)\n",
      "Requirement already satisfied: six>=1.12.0 in c:\\users\\harsh\\projects\\python\\aiml\\venv\\lib\\site-packages (from tensorflow-intel==2.17.0->tensorflow) (1.16.0)\n",
      "Requirement already satisfied: termcolor>=1.1.0 in c:\\users\\harsh\\projects\\python\\aiml\\venv\\lib\\site-packages (from tensorflow-intel==2.17.0->tensorflow) (2.4.0)\n",
      "Requirement already satisfied: typing-extensions>=3.6.6 in c:\\users\\harsh\\projects\\python\\aiml\\venv\\lib\\site-packages (from tensorflow-intel==2.17.0->tensorflow) (4.12.2)\n",
      "Requirement already satisfied: wrapt>=1.11.0 in c:\\users\\harsh\\projects\\python\\aiml\\venv\\lib\\site-packages (from tensorflow-intel==2.17.0->tensorflow) (1.16.0)\n",
      "Requirement already satisfied: grpcio<2.0,>=1.24.3 in c:\\users\\harsh\\projects\\python\\aiml\\venv\\lib\\site-packages (from tensorflow-intel==2.17.0->tensorflow) (1.65.4)\n",
      "Requirement already satisfied: tensorboard<2.18,>=2.17 in c:\\users\\harsh\\projects\\python\\aiml\\venv\\lib\\site-packages (from tensorflow-intel==2.17.0->tensorflow) (2.17.0)\n",
      "Requirement already satisfied: keras>=3.2.0 in c:\\users\\harsh\\projects\\python\\aiml\\venv\\lib\\site-packages (from tensorflow-intel==2.17.0->tensorflow) (3.4.1)\n",
      "Requirement already satisfied: numpy<2.0.0,>=1.26.0 in c:\\users\\harsh\\projects\\python\\aiml\\venv\\lib\\site-packages (from tensorflow-intel==2.17.0->tensorflow) (1.26.4)\n",
      "Requirement already satisfied: wheel<1.0,>=0.23.0 in c:\\users\\harsh\\projects\\python\\aiml\\venv\\lib\\site-packages (from astunparse>=1.6.0->tensorflow-intel==2.17.0->tensorflow) (0.43.0)\n",
      "Requirement already satisfied: rich in c:\\users\\harsh\\projects\\python\\aiml\\venv\\lib\\site-packages (from keras>=3.2.0->tensorflow-intel==2.17.0->tensorflow) (13.7.1)\n",
      "Requirement already satisfied: namex in c:\\users\\harsh\\projects\\python\\aiml\\venv\\lib\\site-packages (from keras>=3.2.0->tensorflow-intel==2.17.0->tensorflow) (0.0.8)\n",
      "Requirement already satisfied: optree in c:\\users\\harsh\\projects\\python\\aiml\\venv\\lib\\site-packages (from keras>=3.2.0->tensorflow-intel==2.17.0->tensorflow) (0.12.1)\n",
      "Requirement already satisfied: charset-normalizer<4,>=2 in c:\\users\\harsh\\projects\\python\\aiml\\venv\\lib\\site-packages (from requests<3,>=2.21.0->tensorflow-intel==2.17.0->tensorflow) (3.3.2)\n",
      "Requirement already satisfied: idna<4,>=2.5 in c:\\users\\harsh\\projects\\python\\aiml\\venv\\lib\\site-packages (from requests<3,>=2.21.0->tensorflow-intel==2.17.0->tensorflow) (3.7)\n",
      "Requirement already satisfied: urllib3<3,>=1.21.1 in c:\\users\\harsh\\projects\\python\\aiml\\venv\\lib\\site-packages (from requests<3,>=2.21.0->tensorflow-intel==2.17.0->tensorflow) (2.2.2)\n",
      "Requirement already satisfied: certifi>=2017.4.17 in c:\\users\\harsh\\projects\\python\\aiml\\venv\\lib\\site-packages (from requests<3,>=2.21.0->tensorflow-intel==2.17.0->tensorflow) (2024.7.4)\n",
      "Requirement already satisfied: markdown>=2.6.8 in c:\\users\\harsh\\projects\\python\\aiml\\venv\\lib\\site-packages (from tensorboard<2.18,>=2.17->tensorflow-intel==2.17.0->tensorflow) (3.6)\n",
      "Requirement already satisfied: tensorboard-data-server<0.8.0,>=0.7.0 in c:\\users\\harsh\\projects\\python\\aiml\\venv\\lib\\site-packages (from tensorboard<2.18,>=2.17->tensorflow-intel==2.17.0->tensorflow) (0.7.2)\n",
      "Requirement already satisfied: werkzeug>=1.0.1 in c:\\users\\harsh\\projects\\python\\aiml\\venv\\lib\\site-packages (from tensorboard<2.18,>=2.17->tensorflow-intel==2.17.0->tensorflow) (3.0.3)\n",
      "Requirement already satisfied: MarkupSafe>=2.1.1 in c:\\users\\harsh\\projects\\python\\aiml\\venv\\lib\\site-packages (from werkzeug>=1.0.1->tensorboard<2.18,>=2.17->tensorflow-intel==2.17.0->tensorflow) (2.1.5)\n",
      "Requirement already satisfied: markdown-it-py>=2.2.0 in c:\\users\\harsh\\projects\\python\\aiml\\venv\\lib\\site-packages (from rich->keras>=3.2.0->tensorflow-intel==2.17.0->tensorflow) (3.0.0)\n",
      "Requirement already satisfied: pygments<3.0.0,>=2.13.0 in c:\\users\\harsh\\projects\\python\\aiml\\venv\\lib\\site-packages (from rich->keras>=3.2.0->tensorflow-intel==2.17.0->tensorflow) (2.18.0)\n",
      "Requirement already satisfied: mdurl~=0.1 in c:\\users\\harsh\\projects\\python\\aiml\\venv\\lib\\site-packages (from markdown-it-py>=2.2.0->rich->keras>=3.2.0->tensorflow-intel==2.17.0->tensorflow) (0.1.2)\n",
      "Note: you may need to restart the kernel to use updated packages.\n"
     ]
    }
   ],
   "source": [
    "# install tensorflow\n",
    "\n",
    "%pip install tensorflow"
   ]
  },
  {
   "cell_type": "code",
   "execution_count": 26,
   "metadata": {},
   "outputs": [],
   "source": [
    "from tensorflow.keras.preprocessing.text import one_hot"
   ]
  },
  {
   "cell_type": "code",
   "execution_count": 28,
   "metadata": {},
   "outputs": [],
   "source": [
    "sent = ['the glass of milk',\n",
    "        'the glass of juice',\n",
    "        'the cup of tea ',\n",
    "        'i am a good boy',\n",
    "        'i am a  goof developer',\n",
    "        'understand the meaning of words',\n",
    "        'your videos are good']"
   ]
  },
  {
   "cell_type": "code",
   "execution_count": 29,
   "metadata": {},
   "outputs": [
    {
     "data": {
      "text/plain": [
       "['the glass of milk',\n",
       " 'the glass of juice',\n",
       " 'the cup of tea ',\n",
       " 'i am a good boy',\n",
       " 'i am a  goof developer',\n",
       " 'understand the meaning of words',\n",
       " 'your videos are good']"
      ]
     },
     "execution_count": 29,
     "metadata": {},
     "output_type": "execute_result"
    }
   ],
   "source": [
    "sent"
   ]
  },
  {
   "cell_type": "code",
   "execution_count": 30,
   "metadata": {},
   "outputs": [],
   "source": [
    "voc_size = 10000"
   ]
  },
  {
   "cell_type": "code",
   "execution_count": 31,
   "metadata": {},
   "outputs": [
    {
     "data": {
      "text/plain": [
       "[[1352, 3979, 5513, 3261],\n",
       " [1352, 3979, 5513, 1259],\n",
       " [1352, 2963, 5513, 2973],\n",
       " [3370, 9856, 7328, 7992, 7256],\n",
       " [3370, 9856, 7328, 2167, 3439],\n",
       " [6114, 1352, 5569, 5513, 9414],\n",
       " [7194, 5180, 6408, 7992]]"
      ]
     },
     "execution_count": 31,
     "metadata": {},
     "output_type": "execute_result"
    }
   ],
   "source": [
    "one_hot_repr = [one_hot(words, voc_size) for words in sent ]\n",
    "one_hot_repr"
   ]
  },
  {
   "cell_type": "code",
   "execution_count": 32,
   "metadata": {},
   "outputs": [],
   "source": [
    "from tensorflow.keras.layers import Embedding \n",
    "\n",
    "from tensorflow.keras.models import Sequential\n",
    "from tensorflow.keras.utils import pad_sequences\n"
   ]
  },
  {
   "cell_type": "code",
   "execution_count": 33,
   "metadata": {},
   "outputs": [],
   "source": [
    "import numpy as np \n",
    "\n"
   ]
  },
  {
   "cell_type": "code",
   "execution_count": 34,
   "metadata": {},
   "outputs": [],
   "source": [
    "sent_len = 8\n",
    "embedded_docs = pad_sequences(one_hot_repr, padding ='pre', maxlen = sent_len)\n"
   ]
  },
  {
   "cell_type": "code",
   "execution_count": 35,
   "metadata": {},
   "outputs": [
    {
     "data": {
      "text/plain": [
       "array([[   0,    0,    0,    0, 1352, 3979, 5513, 3261],\n",
       "       [   0,    0,    0,    0, 1352, 3979, 5513, 1259],\n",
       "       [   0,    0,    0,    0, 1352, 2963, 5513, 2973],\n",
       "       [   0,    0,    0, 3370, 9856, 7328, 7992, 7256],\n",
       "       [   0,    0,    0, 3370, 9856, 7328, 2167, 3439],\n",
       "       [   0,    0,    0, 6114, 1352, 5569, 5513, 9414],\n",
       "       [   0,    0,    0,    0, 7194, 5180, 6408, 7992]])"
      ]
     },
     "execution_count": 35,
     "metadata": {},
     "output_type": "execute_result"
    }
   ],
   "source": [
    "embedded_docs"
   ]
  },
  {
   "cell_type": "code",
   "execution_count": 36,
   "metadata": {},
   "outputs": [],
   "source": [
    "# feature Representation \n",
    "\n",
    "dim = 10"
   ]
  },
  {
   "cell_type": "code",
   "execution_count": 37,
   "metadata": {},
   "outputs": [],
   "source": [
    "model = Sequential()\n",
    "model.add(Embedding(voc_size,dim,input_length=sent_len))\n",
    "model.compile('adam','mse')\n"
   ]
  },
  {
   "cell_type": "code",
   "execution_count": 39,
   "metadata": {},
   "outputs": [
    {
     "data": {
      "text/html": [
       "<pre style=\"white-space:pre;overflow-x:auto;line-height:normal;font-family:Menlo,'DejaVu Sans Mono',consolas,'Courier New',monospace\"><span style=\"font-weight: bold\">Model: \"sequential_7\"</span>\n",
       "</pre>\n"
      ],
      "text/plain": [
       "\u001b[1mModel: \"sequential_7\"\u001b[0m\n"
      ]
     },
     "metadata": {},
     "output_type": "display_data"
    },
    {
     "data": {
      "text/html": [
       "<pre style=\"white-space:pre;overflow-x:auto;line-height:normal;font-family:Menlo,'DejaVu Sans Mono',consolas,'Courier New',monospace\">┏━━━━━━━━━━━━━━━━━━━━━━━━━━━━━━━━━┳━━━━━━━━━━━━━━━━━━━━━━━━┳━━━━━━━━━━━━━━━┓\n",
       "┃<span style=\"font-weight: bold\"> Layer (type)                    </span>┃<span style=\"font-weight: bold\"> Output Shape           </span>┃<span style=\"font-weight: bold\">       Param # </span>┃\n",
       "┡━━━━━━━━━━━━━━━━━━━━━━━━━━━━━━━━━╇━━━━━━━━━━━━━━━━━━━━━━━━╇━━━━━━━━━━━━━━━┩\n",
       "│ embedding_7 (<span style=\"color: #0087ff; text-decoration-color: #0087ff\">Embedding</span>)         │ ?                      │   <span style=\"color: #00af00; text-decoration-color: #00af00\">0</span> (unbuilt) │\n",
       "└─────────────────────────────────┴────────────────────────┴───────────────┘\n",
       "</pre>\n"
      ],
      "text/plain": [
       "┏━━━━━━━━━━━━━━━━━━━━━━━━━━━━━━━━━┳━━━━━━━━━━━━━━━━━━━━━━━━┳━━━━━━━━━━━━━━━┓\n",
       "┃\u001b[1m \u001b[0m\u001b[1mLayer (type)                   \u001b[0m\u001b[1m \u001b[0m┃\u001b[1m \u001b[0m\u001b[1mOutput Shape          \u001b[0m\u001b[1m \u001b[0m┃\u001b[1m \u001b[0m\u001b[1m      Param #\u001b[0m\u001b[1m \u001b[0m┃\n",
       "┡━━━━━━━━━━━━━━━━━━━━━━━━━━━━━━━━━╇━━━━━━━━━━━━━━━━━━━━━━━━╇━━━━━━━━━━━━━━━┩\n",
       "│ embedding_7 (\u001b[38;5;33mEmbedding\u001b[0m)         │ ?                      │   \u001b[38;5;34m0\u001b[0m (unbuilt) │\n",
       "└─────────────────────────────────┴────────────────────────┴───────────────┘\n"
      ]
     },
     "metadata": {},
     "output_type": "display_data"
    },
    {
     "data": {
      "text/html": [
       "<pre style=\"white-space:pre;overflow-x:auto;line-height:normal;font-family:Menlo,'DejaVu Sans Mono',consolas,'Courier New',monospace\"><span style=\"font-weight: bold\"> Total params: </span><span style=\"color: #00af00; text-decoration-color: #00af00\">0</span> (0.00 B)\n",
       "</pre>\n"
      ],
      "text/plain": [
       "\u001b[1m Total params: \u001b[0m\u001b[38;5;34m0\u001b[0m (0.00 B)\n"
      ]
     },
     "metadata": {},
     "output_type": "display_data"
    },
    {
     "data": {
      "text/html": [
       "<pre style=\"white-space:pre;overflow-x:auto;line-height:normal;font-family:Menlo,'DejaVu Sans Mono',consolas,'Courier New',monospace\"><span style=\"font-weight: bold\"> Trainable params: </span><span style=\"color: #00af00; text-decoration-color: #00af00\">0</span> (0.00 B)\n",
       "</pre>\n"
      ],
      "text/plain": [
       "\u001b[1m Trainable params: \u001b[0m\u001b[38;5;34m0\u001b[0m (0.00 B)\n"
      ]
     },
     "metadata": {},
     "output_type": "display_data"
    },
    {
     "data": {
      "text/html": [
       "<pre style=\"white-space:pre;overflow-x:auto;line-height:normal;font-family:Menlo,'DejaVu Sans Mono',consolas,'Courier New',monospace\"><span style=\"font-weight: bold\"> Non-trainable params: </span><span style=\"color: #00af00; text-decoration-color: #00af00\">0</span> (0.00 B)\n",
       "</pre>\n"
      ],
      "text/plain": [
       "\u001b[1m Non-trainable params: \u001b[0m\u001b[38;5;34m0\u001b[0m (0.00 B)\n"
      ]
     },
     "metadata": {},
     "output_type": "display_data"
    }
   ],
   "source": [
    "model.summary()"
   ]
  },
  {
   "cell_type": "code",
   "execution_count": 40,
   "metadata": {},
   "outputs": [
    {
     "name": "stdout",
     "output_type": "stream",
     "text": [
      "\u001b[1m1/1\u001b[0m \u001b[32m━━━━━━━━━━━━━━━━━━━━\u001b[0m\u001b[37m\u001b[0m \u001b[1m0s\u001b[0m 152ms/step\n"
     ]
    },
    {
     "data": {
      "text/plain": [
       "array([[[ 0.04586578, -0.01751823, -0.03806058,  0.02826801,\n",
       "         -0.02995269, -0.01953673,  0.03178099,  0.02153793,\n",
       "          0.02499917,  0.00945002],\n",
       "        [ 0.04586578, -0.01751823, -0.03806058,  0.02826801,\n",
       "         -0.02995269, -0.01953673,  0.03178099,  0.02153793,\n",
       "          0.02499917,  0.00945002],\n",
       "        [ 0.04586578, -0.01751823, -0.03806058,  0.02826801,\n",
       "         -0.02995269, -0.01953673,  0.03178099,  0.02153793,\n",
       "          0.02499917,  0.00945002],\n",
       "        [ 0.04586578, -0.01751823, -0.03806058,  0.02826801,\n",
       "         -0.02995269, -0.01953673,  0.03178099,  0.02153793,\n",
       "          0.02499917,  0.00945002],\n",
       "        [ 0.01322801, -0.0106517 , -0.02795171,  0.02489733,\n",
       "          0.04183814, -0.04798039,  0.02990724, -0.01897582,\n",
       "          0.03396405, -0.00464813],\n",
       "        [ 0.00544236, -0.03947286,  0.03140726, -0.04211614,\n",
       "         -0.02000999,  0.04720266, -0.03415602, -0.01512841,\n",
       "         -0.03529548,  0.00406909],\n",
       "        [-0.01562952,  0.00584543,  0.04744602,  0.01976803,\n",
       "         -0.04519714, -0.01604217,  0.02179073, -0.02570068,\n",
       "         -0.01930314, -0.01348354],\n",
       "        [ 0.00960438,  0.04229815, -0.03169217,  0.01412131,\n",
       "         -0.00263141,  0.04282769,  0.04285958,  0.00464089,\n",
       "          0.01523605, -0.04803357]],\n",
       "\n",
       "       [[ 0.04586578, -0.01751823, -0.03806058,  0.02826801,\n",
       "         -0.02995269, -0.01953673,  0.03178099,  0.02153793,\n",
       "          0.02499917,  0.00945002],\n",
       "        [ 0.04586578, -0.01751823, -0.03806058,  0.02826801,\n",
       "         -0.02995269, -0.01953673,  0.03178099,  0.02153793,\n",
       "          0.02499917,  0.00945002],\n",
       "        [ 0.04586578, -0.01751823, -0.03806058,  0.02826801,\n",
       "         -0.02995269, -0.01953673,  0.03178099,  0.02153793,\n",
       "          0.02499917,  0.00945002],\n",
       "        [ 0.04586578, -0.01751823, -0.03806058,  0.02826801,\n",
       "         -0.02995269, -0.01953673,  0.03178099,  0.02153793,\n",
       "          0.02499917,  0.00945002],\n",
       "        [ 0.01322801, -0.0106517 , -0.02795171,  0.02489733,\n",
       "          0.04183814, -0.04798039,  0.02990724, -0.01897582,\n",
       "          0.03396405, -0.00464813],\n",
       "        [ 0.00544236, -0.03947286,  0.03140726, -0.04211614,\n",
       "         -0.02000999,  0.04720266, -0.03415602, -0.01512841,\n",
       "         -0.03529548,  0.00406909],\n",
       "        [-0.01562952,  0.00584543,  0.04744602,  0.01976803,\n",
       "         -0.04519714, -0.01604217,  0.02179073, -0.02570068,\n",
       "         -0.01930314, -0.01348354],\n",
       "        [-0.01511095,  0.00948647,  0.02759029, -0.02282217,\n",
       "          0.03573607, -0.01366886,  0.04802908, -0.03865451,\n",
       "         -0.03175946,  0.00359092]],\n",
       "\n",
       "       [[ 0.04586578, -0.01751823, -0.03806058,  0.02826801,\n",
       "         -0.02995269, -0.01953673,  0.03178099,  0.02153793,\n",
       "          0.02499917,  0.00945002],\n",
       "        [ 0.04586578, -0.01751823, -0.03806058,  0.02826801,\n",
       "         -0.02995269, -0.01953673,  0.03178099,  0.02153793,\n",
       "          0.02499917,  0.00945002],\n",
       "        [ 0.04586578, -0.01751823, -0.03806058,  0.02826801,\n",
       "         -0.02995269, -0.01953673,  0.03178099,  0.02153793,\n",
       "          0.02499917,  0.00945002],\n",
       "        [ 0.04586578, -0.01751823, -0.03806058,  0.02826801,\n",
       "         -0.02995269, -0.01953673,  0.03178099,  0.02153793,\n",
       "          0.02499917,  0.00945002],\n",
       "        [ 0.01322801, -0.0106517 , -0.02795171,  0.02489733,\n",
       "          0.04183814, -0.04798039,  0.02990724, -0.01897582,\n",
       "          0.03396405, -0.00464813],\n",
       "        [ 0.01584076,  0.0048647 , -0.02941598,  0.02347852,\n",
       "         -0.00108675, -0.04854779,  0.02260479, -0.04228723,\n",
       "          0.04744223, -0.03117224],\n",
       "        [-0.01562952,  0.00584543,  0.04744602,  0.01976803,\n",
       "         -0.04519714, -0.01604217,  0.02179073, -0.02570068,\n",
       "         -0.01930314, -0.01348354],\n",
       "        [-0.03060675, -0.04687826, -0.01269311, -0.02148665,\n",
       "         -0.0288321 ,  0.025302  ,  0.01122976, -0.01379416,\n",
       "          0.00096691, -0.00614629]],\n",
       "\n",
       "       [[ 0.04586578, -0.01751823, -0.03806058,  0.02826801,\n",
       "         -0.02995269, -0.01953673,  0.03178099,  0.02153793,\n",
       "          0.02499917,  0.00945002],\n",
       "        [ 0.04586578, -0.01751823, -0.03806058,  0.02826801,\n",
       "         -0.02995269, -0.01953673,  0.03178099,  0.02153793,\n",
       "          0.02499917,  0.00945002],\n",
       "        [ 0.04586578, -0.01751823, -0.03806058,  0.02826801,\n",
       "         -0.02995269, -0.01953673,  0.03178099,  0.02153793,\n",
       "          0.02499917,  0.00945002],\n",
       "        [-0.03075676,  0.00960736,  0.01251793, -0.04601822,\n",
       "         -0.01730391, -0.00780695, -0.04121006,  0.02169837,\n",
       "         -0.01720161,  0.03652087],\n",
       "        [-0.01324825, -0.01719541,  0.00663004, -0.00344676,\n",
       "         -0.02859991, -0.03021744,  0.01287882, -0.04797463,\n",
       "          0.03343629, -0.01583781],\n",
       "        [ 0.02481026, -0.02093116, -0.01858385,  0.03407891,\n",
       "         -0.04345303, -0.03192445, -0.00924792,  0.00717393,\n",
       "          0.00846592,  0.00920995],\n",
       "        [-0.0081251 , -0.02779409,  0.0069765 ,  0.01588178,\n",
       "          0.04849209, -0.04848048,  0.02414134,  0.00817214,\n",
       "         -0.03422572,  0.04475561],\n",
       "        [ 0.00925785,  0.0441752 ,  0.04059006,  0.04773196,\n",
       "          0.03239499, -0.04003608,  0.04140176, -0.04922844,\n",
       "          0.04742238, -0.02108299]],\n",
       "\n",
       "       [[ 0.04586578, -0.01751823, -0.03806058,  0.02826801,\n",
       "         -0.02995269, -0.01953673,  0.03178099,  0.02153793,\n",
       "          0.02499917,  0.00945002],\n",
       "        [ 0.04586578, -0.01751823, -0.03806058,  0.02826801,\n",
       "         -0.02995269, -0.01953673,  0.03178099,  0.02153793,\n",
       "          0.02499917,  0.00945002],\n",
       "        [ 0.04586578, -0.01751823, -0.03806058,  0.02826801,\n",
       "         -0.02995269, -0.01953673,  0.03178099,  0.02153793,\n",
       "          0.02499917,  0.00945002],\n",
       "        [-0.03075676,  0.00960736,  0.01251793, -0.04601822,\n",
       "         -0.01730391, -0.00780695, -0.04121006,  0.02169837,\n",
       "         -0.01720161,  0.03652087],\n",
       "        [-0.01324825, -0.01719541,  0.00663004, -0.00344676,\n",
       "         -0.02859991, -0.03021744,  0.01287882, -0.04797463,\n",
       "          0.03343629, -0.01583781],\n",
       "        [ 0.02481026, -0.02093116, -0.01858385,  0.03407891,\n",
       "         -0.04345303, -0.03192445, -0.00924792,  0.00717393,\n",
       "          0.00846592,  0.00920995],\n",
       "        [-0.00650287,  0.04384674, -0.03531092,  0.01582194,\n",
       "         -0.03398705, -0.00832278, -0.01030061,  0.02607213,\n",
       "          0.00222597,  0.04437356],\n",
       "        [-0.03483891, -0.04812966, -0.01225678,  0.02717468,\n",
       "          0.03354249,  0.02152047, -0.02828224,  0.0336935 ,\n",
       "          0.01904451, -0.01116168]],\n",
       "\n",
       "       [[ 0.04586578, -0.01751823, -0.03806058,  0.02826801,\n",
       "         -0.02995269, -0.01953673,  0.03178099,  0.02153793,\n",
       "          0.02499917,  0.00945002],\n",
       "        [ 0.04586578, -0.01751823, -0.03806058,  0.02826801,\n",
       "         -0.02995269, -0.01953673,  0.03178099,  0.02153793,\n",
       "          0.02499917,  0.00945002],\n",
       "        [ 0.04586578, -0.01751823, -0.03806058,  0.02826801,\n",
       "         -0.02995269, -0.01953673,  0.03178099,  0.02153793,\n",
       "          0.02499917,  0.00945002],\n",
       "        [-0.00520467,  0.00921362,  0.02267777, -0.03140025,\n",
       "         -0.04886109,  0.0319137 ,  0.00558121,  0.02121976,\n",
       "         -0.02325954, -0.0050076 ],\n",
       "        [ 0.01322801, -0.0106517 , -0.02795171,  0.02489733,\n",
       "          0.04183814, -0.04798039,  0.02990724, -0.01897582,\n",
       "          0.03396405, -0.00464813],\n",
       "        [ 0.0277078 , -0.04776024, -0.03691972,  0.00099109,\n",
       "          0.03456361, -0.0040477 , -0.00844114, -0.01413037,\n",
       "         -0.03067509,  0.04894287],\n",
       "        [-0.01562952,  0.00584543,  0.04744602,  0.01976803,\n",
       "         -0.04519714, -0.01604217,  0.02179073, -0.02570068,\n",
       "         -0.01930314, -0.01348354],\n",
       "        [-0.02918025,  0.02925677, -0.01882575,  0.02281345,\n",
       "         -0.0276396 , -0.02708333, -0.01443456, -0.01172849,\n",
       "         -0.02457751, -0.04953606]],\n",
       "\n",
       "       [[ 0.04586578, -0.01751823, -0.03806058,  0.02826801,\n",
       "         -0.02995269, -0.01953673,  0.03178099,  0.02153793,\n",
       "          0.02499917,  0.00945002],\n",
       "        [ 0.04586578, -0.01751823, -0.03806058,  0.02826801,\n",
       "         -0.02995269, -0.01953673,  0.03178099,  0.02153793,\n",
       "          0.02499917,  0.00945002],\n",
       "        [ 0.04586578, -0.01751823, -0.03806058,  0.02826801,\n",
       "         -0.02995269, -0.01953673,  0.03178099,  0.02153793,\n",
       "          0.02499917,  0.00945002],\n",
       "        [ 0.04586578, -0.01751823, -0.03806058,  0.02826801,\n",
       "         -0.02995269, -0.01953673,  0.03178099,  0.02153793,\n",
       "          0.02499917,  0.00945002],\n",
       "        [ 0.02222563,  0.01080143, -0.01225846, -0.02825381,\n",
       "          0.00944994,  0.00305848,  0.03177046, -0.01819981,\n",
       "         -0.02964383,  0.04167343],\n",
       "        [ 0.03714747,  0.0292449 , -0.01717471,  0.01720159,\n",
       "         -0.01636089, -0.00397889,  0.04952664,  0.01785484,\n",
       "         -0.03604336,  0.03721735],\n",
       "        [-0.02860681,  0.02250664,  0.02318876,  0.04808583,\n",
       "          0.02674086,  0.02270297, -0.03490467,  0.0254291 ,\n",
       "         -0.04209419,  0.00217503],\n",
       "        [-0.0081251 , -0.02779409,  0.0069765 ,  0.01588178,\n",
       "          0.04849209, -0.04848048,  0.02414134,  0.00817214,\n",
       "         -0.03422572,  0.04475561]]], dtype=float32)"
      ]
     },
     "execution_count": 40,
     "metadata": {},
     "output_type": "execute_result"
    }
   ],
   "source": [
    "model.predict(embedded_docs)"
   ]
  },
  {
   "cell_type": "code",
   "execution_count": 41,
   "metadata": {},
   "outputs": [
    {
     "data": {
      "text/plain": [
       "array([   0,    0,    0,    0, 1352, 3979, 5513, 3261])"
      ]
     },
     "execution_count": 41,
     "metadata": {},
     "output_type": "execute_result"
    }
   ],
   "source": [
    "embedded_docs[0]"
   ]
  },
  {
   "cell_type": "code",
   "execution_count": 44,
   "metadata": {},
   "outputs": [
    {
     "name": "stdout",
     "output_type": "stream",
     "text": [
      "\u001b[1m1/1\u001b[0m \u001b[32m━━━━━━━━━━━━━━━━━━━━\u001b[0m\u001b[37m\u001b[0m \u001b[1m0s\u001b[0m 16ms/step\n"
     ]
    },
    {
     "data": {
      "text/plain": [
       "array([[[ 0.04586578, -0.01751823, -0.03806058,  0.02826801,\n",
       "         -0.02995269, -0.01953673,  0.03178099,  0.02153793,\n",
       "          0.02499917,  0.00945002],\n",
       "        [ 0.04586578, -0.01751823, -0.03806058,  0.02826801,\n",
       "         -0.02995269, -0.01953673,  0.03178099,  0.02153793,\n",
       "          0.02499917,  0.00945002],\n",
       "        [ 0.04586578, -0.01751823, -0.03806058,  0.02826801,\n",
       "         -0.02995269, -0.01953673,  0.03178099,  0.02153793,\n",
       "          0.02499917,  0.00945002],\n",
       "        [ 0.04586578, -0.01751823, -0.03806058,  0.02826801,\n",
       "         -0.02995269, -0.01953673,  0.03178099,  0.02153793,\n",
       "          0.02499917,  0.00945002],\n",
       "        [ 0.01322801, -0.0106517 , -0.02795171,  0.02489733,\n",
       "          0.04183814, -0.04798039,  0.02990724, -0.01897582,\n",
       "          0.03396405, -0.00464813],\n",
       "        [ 0.00544236, -0.03947286,  0.03140726, -0.04211614,\n",
       "         -0.02000999,  0.04720266, -0.03415602, -0.01512841,\n",
       "         -0.03529548,  0.00406909],\n",
       "        [-0.01562952,  0.00584543,  0.04744602,  0.01976803,\n",
       "         -0.04519714, -0.01604217,  0.02179073, -0.02570068,\n",
       "         -0.01930314, -0.01348354],\n",
       "        [ 0.00960438,  0.04229815, -0.03169217,  0.01412131,\n",
       "         -0.00263141,  0.04282769,  0.04285958,  0.00464089,\n",
       "          0.01523605, -0.04803357]],\n",
       "\n",
       "       [[ 0.04586578, -0.01751823, -0.03806058,  0.02826801,\n",
       "         -0.02995269, -0.01953673,  0.03178099,  0.02153793,\n",
       "          0.02499917,  0.00945002],\n",
       "        [ 0.04586578, -0.01751823, -0.03806058,  0.02826801,\n",
       "         -0.02995269, -0.01953673,  0.03178099,  0.02153793,\n",
       "          0.02499917,  0.00945002],\n",
       "        [ 0.04586578, -0.01751823, -0.03806058,  0.02826801,\n",
       "         -0.02995269, -0.01953673,  0.03178099,  0.02153793,\n",
       "          0.02499917,  0.00945002],\n",
       "        [ 0.04586578, -0.01751823, -0.03806058,  0.02826801,\n",
       "         -0.02995269, -0.01953673,  0.03178099,  0.02153793,\n",
       "          0.02499917,  0.00945002],\n",
       "        [ 0.01322801, -0.0106517 , -0.02795171,  0.02489733,\n",
       "          0.04183814, -0.04798039,  0.02990724, -0.01897582,\n",
       "          0.03396405, -0.00464813],\n",
       "        [ 0.00544236, -0.03947286,  0.03140726, -0.04211614,\n",
       "         -0.02000999,  0.04720266, -0.03415602, -0.01512841,\n",
       "         -0.03529548,  0.00406909],\n",
       "        [-0.01562952,  0.00584543,  0.04744602,  0.01976803,\n",
       "         -0.04519714, -0.01604217,  0.02179073, -0.02570068,\n",
       "         -0.01930314, -0.01348354],\n",
       "        [-0.01511095,  0.00948647,  0.02759029, -0.02282217,\n",
       "          0.03573607, -0.01366886,  0.04802908, -0.03865451,\n",
       "         -0.03175946,  0.00359092]],\n",
       "\n",
       "       [[ 0.04586578, -0.01751823, -0.03806058,  0.02826801,\n",
       "         -0.02995269, -0.01953673,  0.03178099,  0.02153793,\n",
       "          0.02499917,  0.00945002],\n",
       "        [ 0.04586578, -0.01751823, -0.03806058,  0.02826801,\n",
       "         -0.02995269, -0.01953673,  0.03178099,  0.02153793,\n",
       "          0.02499917,  0.00945002],\n",
       "        [ 0.04586578, -0.01751823, -0.03806058,  0.02826801,\n",
       "         -0.02995269, -0.01953673,  0.03178099,  0.02153793,\n",
       "          0.02499917,  0.00945002],\n",
       "        [ 0.04586578, -0.01751823, -0.03806058,  0.02826801,\n",
       "         -0.02995269, -0.01953673,  0.03178099,  0.02153793,\n",
       "          0.02499917,  0.00945002],\n",
       "        [ 0.01322801, -0.0106517 , -0.02795171,  0.02489733,\n",
       "          0.04183814, -0.04798039,  0.02990724, -0.01897582,\n",
       "          0.03396405, -0.00464813],\n",
       "        [ 0.01584076,  0.0048647 , -0.02941598,  0.02347852,\n",
       "         -0.00108675, -0.04854779,  0.02260479, -0.04228723,\n",
       "          0.04744223, -0.03117224],\n",
       "        [-0.01562952,  0.00584543,  0.04744602,  0.01976803,\n",
       "         -0.04519714, -0.01604217,  0.02179073, -0.02570068,\n",
       "         -0.01930314, -0.01348354],\n",
       "        [-0.03060675, -0.04687826, -0.01269311, -0.02148665,\n",
       "         -0.0288321 ,  0.025302  ,  0.01122976, -0.01379416,\n",
       "          0.00096691, -0.00614629]],\n",
       "\n",
       "       [[ 0.04586578, -0.01751823, -0.03806058,  0.02826801,\n",
       "         -0.02995269, -0.01953673,  0.03178099,  0.02153793,\n",
       "          0.02499917,  0.00945002],\n",
       "        [ 0.04586578, -0.01751823, -0.03806058,  0.02826801,\n",
       "         -0.02995269, -0.01953673,  0.03178099,  0.02153793,\n",
       "          0.02499917,  0.00945002],\n",
       "        [ 0.04586578, -0.01751823, -0.03806058,  0.02826801,\n",
       "         -0.02995269, -0.01953673,  0.03178099,  0.02153793,\n",
       "          0.02499917,  0.00945002],\n",
       "        [-0.03075676,  0.00960736,  0.01251793, -0.04601822,\n",
       "         -0.01730391, -0.00780695, -0.04121006,  0.02169837,\n",
       "         -0.01720161,  0.03652087],\n",
       "        [-0.01324825, -0.01719541,  0.00663004, -0.00344676,\n",
       "         -0.02859991, -0.03021744,  0.01287882, -0.04797463,\n",
       "          0.03343629, -0.01583781],\n",
       "        [ 0.02481026, -0.02093116, -0.01858385,  0.03407891,\n",
       "         -0.04345303, -0.03192445, -0.00924792,  0.00717393,\n",
       "          0.00846592,  0.00920995],\n",
       "        [-0.0081251 , -0.02779409,  0.0069765 ,  0.01588178,\n",
       "          0.04849209, -0.04848048,  0.02414134,  0.00817214,\n",
       "         -0.03422572,  0.04475561],\n",
       "        [ 0.00925785,  0.0441752 ,  0.04059006,  0.04773196,\n",
       "          0.03239499, -0.04003608,  0.04140176, -0.04922844,\n",
       "          0.04742238, -0.02108299]],\n",
       "\n",
       "       [[ 0.04586578, -0.01751823, -0.03806058,  0.02826801,\n",
       "         -0.02995269, -0.01953673,  0.03178099,  0.02153793,\n",
       "          0.02499917,  0.00945002],\n",
       "        [ 0.04586578, -0.01751823, -0.03806058,  0.02826801,\n",
       "         -0.02995269, -0.01953673,  0.03178099,  0.02153793,\n",
       "          0.02499917,  0.00945002],\n",
       "        [ 0.04586578, -0.01751823, -0.03806058,  0.02826801,\n",
       "         -0.02995269, -0.01953673,  0.03178099,  0.02153793,\n",
       "          0.02499917,  0.00945002],\n",
       "        [-0.03075676,  0.00960736,  0.01251793, -0.04601822,\n",
       "         -0.01730391, -0.00780695, -0.04121006,  0.02169837,\n",
       "         -0.01720161,  0.03652087],\n",
       "        [-0.01324825, -0.01719541,  0.00663004, -0.00344676,\n",
       "         -0.02859991, -0.03021744,  0.01287882, -0.04797463,\n",
       "          0.03343629, -0.01583781],\n",
       "        [ 0.02481026, -0.02093116, -0.01858385,  0.03407891,\n",
       "         -0.04345303, -0.03192445, -0.00924792,  0.00717393,\n",
       "          0.00846592,  0.00920995],\n",
       "        [-0.00650287,  0.04384674, -0.03531092,  0.01582194,\n",
       "         -0.03398705, -0.00832278, -0.01030061,  0.02607213,\n",
       "          0.00222597,  0.04437356],\n",
       "        [-0.03483891, -0.04812966, -0.01225678,  0.02717468,\n",
       "          0.03354249,  0.02152047, -0.02828224,  0.0336935 ,\n",
       "          0.01904451, -0.01116168]],\n",
       "\n",
       "       [[ 0.04586578, -0.01751823, -0.03806058,  0.02826801,\n",
       "         -0.02995269, -0.01953673,  0.03178099,  0.02153793,\n",
       "          0.02499917,  0.00945002],\n",
       "        [ 0.04586578, -0.01751823, -0.03806058,  0.02826801,\n",
       "         -0.02995269, -0.01953673,  0.03178099,  0.02153793,\n",
       "          0.02499917,  0.00945002],\n",
       "        [ 0.04586578, -0.01751823, -0.03806058,  0.02826801,\n",
       "         -0.02995269, -0.01953673,  0.03178099,  0.02153793,\n",
       "          0.02499917,  0.00945002],\n",
       "        [-0.00520467,  0.00921362,  0.02267777, -0.03140025,\n",
       "         -0.04886109,  0.0319137 ,  0.00558121,  0.02121976,\n",
       "         -0.02325954, -0.0050076 ],\n",
       "        [ 0.01322801, -0.0106517 , -0.02795171,  0.02489733,\n",
       "          0.04183814, -0.04798039,  0.02990724, -0.01897582,\n",
       "          0.03396405, -0.00464813],\n",
       "        [ 0.0277078 , -0.04776024, -0.03691972,  0.00099109,\n",
       "          0.03456361, -0.0040477 , -0.00844114, -0.01413037,\n",
       "         -0.03067509,  0.04894287],\n",
       "        [-0.01562952,  0.00584543,  0.04744602,  0.01976803,\n",
       "         -0.04519714, -0.01604217,  0.02179073, -0.02570068,\n",
       "         -0.01930314, -0.01348354],\n",
       "        [-0.02918025,  0.02925677, -0.01882575,  0.02281345,\n",
       "         -0.0276396 , -0.02708333, -0.01443456, -0.01172849,\n",
       "         -0.02457751, -0.04953606]],\n",
       "\n",
       "       [[ 0.04586578, -0.01751823, -0.03806058,  0.02826801,\n",
       "         -0.02995269, -0.01953673,  0.03178099,  0.02153793,\n",
       "          0.02499917,  0.00945002],\n",
       "        [ 0.04586578, -0.01751823, -0.03806058,  0.02826801,\n",
       "         -0.02995269, -0.01953673,  0.03178099,  0.02153793,\n",
       "          0.02499917,  0.00945002],\n",
       "        [ 0.04586578, -0.01751823, -0.03806058,  0.02826801,\n",
       "         -0.02995269, -0.01953673,  0.03178099,  0.02153793,\n",
       "          0.02499917,  0.00945002],\n",
       "        [ 0.04586578, -0.01751823, -0.03806058,  0.02826801,\n",
       "         -0.02995269, -0.01953673,  0.03178099,  0.02153793,\n",
       "          0.02499917,  0.00945002],\n",
       "        [ 0.02222563,  0.01080143, -0.01225846, -0.02825381,\n",
       "          0.00944994,  0.00305848,  0.03177046, -0.01819981,\n",
       "         -0.02964383,  0.04167343],\n",
       "        [ 0.03714747,  0.0292449 , -0.01717471,  0.01720159,\n",
       "         -0.01636089, -0.00397889,  0.04952664,  0.01785484,\n",
       "         -0.03604336,  0.03721735],\n",
       "        [-0.02860681,  0.02250664,  0.02318876,  0.04808583,\n",
       "          0.02674086,  0.02270297, -0.03490467,  0.0254291 ,\n",
       "         -0.04209419,  0.00217503],\n",
       "        [-0.0081251 , -0.02779409,  0.0069765 ,  0.01588178,\n",
       "          0.04849209, -0.04848048,  0.02414134,  0.00817214,\n",
       "         -0.03422572,  0.04475561]]], dtype=float32)"
      ]
     },
     "execution_count": 44,
     "metadata": {},
     "output_type": "execute_result"
    }
   ],
   "source": [
    "model.predict(embedded_docs)"
   ]
  }
 ],
 "metadata": {
  "kernelspec": {
   "display_name": "Python 3",
   "language": "python",
   "name": "python3"
  },
  "language_info": {
   "codemirror_mode": {
    "name": "ipython",
    "version": 3
   },
   "file_extension": ".py",
   "mimetype": "text/x-python",
   "name": "python",
   "nbconvert_exporter": "python",
   "pygments_lexer": "ipython3",
   "version": "3.12.0"
  }
 },
 "nbformat": 4,
 "nbformat_minor": 2
}
